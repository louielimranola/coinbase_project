{
 "cells": [
  {
   "cell_type": "code",
   "execution_count": 5,
   "metadata": {},
   "outputs": [
    {
     "name": "stderr",
     "output_type": "stream",
     "text": [
      "/Users/louielim/Library/Python/3.9/lib/python/site-packages/urllib3/__init__.py:35: NotOpenSSLWarning: urllib3 v2 only supports OpenSSL 1.1.1+, currently the 'ssl' module is compiled with 'LibreSSL 2.8.3'. See: https://github.com/urllib3/urllib3/issues/3020\n",
      "  warnings.warn(\n"
     ]
    }
   ],
   "source": [
    "import requests\n",
    "import pandas as pd\n",
    "import json"
   ]
  },
  {
   "cell_type": "code",
   "execution_count": 3,
   "metadata": {},
   "outputs": [],
   "source": [
    "# # Endpoint for listing all currencies\n",
    "# currencies_url = \"https://api.coinbase.com/v2/currencies\"\n",
    "\n",
    "# # Get currencies\n",
    "# response_currencies = requests.get(currencies_url)\n",
    "# currencies = json.loads(response_currencies.text)\n",
    "# currencies"
   ]
  },
  {
   "cell_type": "code",
   "execution_count": 2,
   "metadata": {},
   "outputs": [],
   "source": [
    "# # Endpoint for current exchange rates for Bitcoin\n",
    "# exchange_rates_url = \"https://api.coinbase.com/v2/exchange-rates?currency=USD\"\n",
    "\n",
    "# #  Get exchange rates\n",
    "# response_exchange_rates = requests.get(exchange_rates_url)\n",
    "# exchange_rates = json.loads(response_exchange_rates.text)\n",
    "# exchange_rates "
   ]
  },
  {
   "cell_type": "code",
   "execution_count": 1,
   "metadata": {},
   "outputs": [],
   "source": [
    "# exchange_rates['data']['rates']"
   ]
  },
  {
   "cell_type": "code",
   "execution_count": 6,
   "metadata": {},
   "outputs": [
    {
     "data": {
      "text/plain": [
       "{'data': {'amount': '28990.08', 'base': 'BTC', 'currency': 'USD'}}"
      ]
     },
     "execution_count": 6,
     "metadata": {},
     "output_type": "execute_result"
    }
   ],
   "source": [
    "prices_url = 'https://api.coinbase.com/v2/prices/BTC-USD/buy?date=2021-01-01'\n",
    "# Get prices\n",
    "response_prices = requests.get(prices_url)\n",
    "prices = json.loads(response_prices.text)\n",
    "prices "
   ]
  },
  {
   "cell_type": "code",
   "execution_count": 8,
   "metadata": {},
   "outputs": [
    {
     "data": {
      "text/plain": [
       "{'data': {'amount': '28990.08', 'base': 'BTC', 'currency': 'USD'}}"
      ]
     },
     "execution_count": 8,
     "metadata": {},
     "output_type": "execute_result"
    }
   ],
   "source": [
    "import requests\n",
    "import pandas as pd\n",
    "import json\n",
    "\n",
    "prices_url = 'https://api.coinbase.com/v2/prices/BTC-USD/buy?date=2021-01-01'\n",
    "# Get prices\n",
    "response_prices = requests.get(prices_url)\n",
    "prices = json.loads(response_prices.text)\n",
    "prices "
   ]
  },
  {
   "cell_type": "code",
   "execution_count": 9,
   "metadata": {},
   "outputs": [
    {
     "data": {
      "text/plain": [
       "dict"
      ]
     },
     "execution_count": 9,
     "metadata": {},
     "output_type": "execute_result"
    }
   ],
   "source": [
    "type(prices)"
   ]
  },
  {
   "cell_type": "code",
   "execution_count": 10,
   "metadata": {},
   "outputs": [],
   "source": [
    "\n",
    "# Fetch Bitcoin price data\n",
    "prices_url = 'https://api.coinbase.com/v2/prices/BTC-USD/buy?date=2021-01-01'\n",
    "response_prices = requests.get(prices_url)\n",
    "prices = json.loads(response_prices.text)\n",
    "\n",
    "# Extract values from the response\n",
    "amount = float(prices['data']['amount'])\n",
    "base = prices['data']['base']"
   ]
  },
  {
   "cell_type": "code",
   "execution_count": 11,
   "metadata": {},
   "outputs": [
    {
     "data": {
      "text/plain": [
       "28990.08"
      ]
     },
     "execution_count": 11,
     "metadata": {},
     "output_type": "execute_result"
    }
   ],
   "source": [
    "amount"
   ]
  },
  {
   "cell_type": "code",
   "execution_count": 12,
   "metadata": {},
   "outputs": [
    {
     "data": {
      "text/plain": [
       "'BTC'"
      ]
     },
     "execution_count": 12,
     "metadata": {},
     "output_type": "execute_result"
    }
   ],
   "source": [
    "base"
   ]
  },
  {
   "cell_type": "code",
   "execution_count": null,
   "metadata": {},
   "outputs": [],
   "source": []
  }
 ],
 "metadata": {
  "kernelspec": {
   "display_name": "Python 3",
   "language": "python",
   "name": "python3"
  },
  "language_info": {
   "codemirror_mode": {
    "name": "ipython",
    "version": 3
   },
   "file_extension": ".py",
   "mimetype": "text/x-python",
   "name": "python",
   "nbconvert_exporter": "python",
   "pygments_lexer": "ipython3",
   "version": "3.9.6"
  }
 },
 "nbformat": 4,
 "nbformat_minor": 2
}
